{
  "nbformat": 4,
  "nbformat_minor": 0,
  "metadata": {
    "colab": {
      "provenance": []
    },
    "kernelspec": {
      "name": "python3",
      "display_name": "Python 3"
    },
    "language_info": {
      "name": "python"
    }
  },
  "cells": [
    {
      "cell_type": "code",
      "execution_count": null,
      "metadata": {
        "id": "sFXpAU4AJ6N2"
      },
      "outputs": [],
      "source": [
        "!pip -q install langchain\n",
        "!pip -q install accelerate\n",
        "!pip -q install sentence-transformers\n",
        "!pip -q install pypdf\n",
        "!pip -q install chromadb\n",
        "!pip -q  install unstructured\n",
        "!pip -q install pdf2image\n",
        "!pip  -q install unstructured['pdf']"
      ]
    },
    {
      "cell_type": "markdown",
      "source": [
        "LOADING DATA"
      ],
      "metadata": {
        "id": "Brh_lP4ZPrI6"
      }
    },
    {
      "cell_type": "code",
      "source": [
        "from langchain.document_loaders import UnstructuredPDFLoader\n",
        "from langchain.text_splitter import RecursiveCharacterTextSplitter\n",
        "from langchain.vectorstores import Chroma\n",
        "from langchain.embeddings import HuggingFaceInferenceAPIEmbeddings\n",
        "from langchain.llms import HuggingFaceHub\n",
        "from langchain.storage import InMemoryStore\n",
        "from langchain.chains import RetrievalQA\n",
        "from langchain.retrievers import ParentDocumentRetriever"
      ],
      "metadata": {
        "id": "RRztKNezNoZh"
      },
      "execution_count": null,
      "outputs": []
    },
    {
      "cell_type": "code",
      "source": [
        "import os\n",
        "from getpass import getpass\n",
        "\n",
        "HF_TOKEN=getpass()"
      ],
      "metadata": {
        "colab": {
          "base_uri": "https://localhost:8080/"
        },
        "id": "2gl5kH3tNodB",
        "outputId": "79e681df-baf7-48ba-cbbb-8ac870cf0757"
      },
      "execution_count": null,
      "outputs": [
        {
          "name": "stdout",
          "output_type": "stream",
          "text": [
            "··········\n"
          ]
        }
      ]
    },
    {
      "cell_type": "code",
      "source": [
        "os.environ['HUGGINGFACEHUB_API_TOKEN']=HF_TOKEN"
      ],
      "metadata": {
        "id": "g96OykHaO_ha"
      },
      "execution_count": null,
      "outputs": []
    },
    {
      "cell_type": "code",
      "source": [
        "file_path=\"/content/pritesh cv.pdf\"\n",
        "data=UnstructuredPDFLoader(file_path)\n",
        "content=data.load()\n",
        "\n",
        "print(content)\n"
      ],
      "metadata": {
        "colab": {
          "base_uri": "https://localhost:8080/"
        },
        "id": "r7uQ9S4qO_jl",
        "outputId": "5ed17ddf-ed04-4ac8-c682-f023da0e4f96"
      },
      "execution_count": null,
      "outputs": [
        {
          "output_type": "stream",
          "name": "stderr",
          "text": [
            "[nltk_data] Downloading package punkt to /root/nltk_data...\n",
            "[nltk_data]   Unzipping tokenizers/punkt.zip.\n",
            "[nltk_data] Downloading package averaged_perceptron_tagger to\n",
            "[nltk_data]     /root/nltk_data...\n",
            "[nltk_data]   Unzipping taggers/averaged_perceptron_tagger.zip.\n"
          ]
        },
        {
          "output_type": "stream",
          "name": "stdout",
          "text": [
            "[Document(page_content=\"+91 9167645691\\n\\nPRITESH JAYPRAKASH VERMA AI & DS ENGINEERING STUDENT\\n\\nvermapritesh74@gmail.com\\n\\nGoregaon, Mumbai\\n\\n@Pritesh verma\\n\\nE D U C A T I O N\\n\\nP R O F I L E\\n\\nSCHOOL\\n\\nSt. Xavier’s High School, Goregaon, Mumbai-400063. Percentage: 87.80%\\n\\nHSC Patkar Varde College of Science and Arts, Goregaon, Mumbai-400063. Percentage: 85.50%\\n\\nData and algorithms are my jam, and I'm currently diving headfirst into the fascinating world of AI and Data Science as an engineering student. Machine learning is where my brain truly lights up, and I'm not afraid to put that passion to the test. Two hackathon wins and countless national-level battles under my belt have proven I can apply my knowledge in the heat of the moment. But competition isn't everything - I'm always hungry to learn and grow, which is why you'll find me soaking up knowledge at every hackathon, eager to push my limits and collaborate with other tech enthusiasts.\\n\\nK E Y S K I L L S\\n\\nE X P E R I E N C E\\n\\nData Science Machine Learning Deep Learning Data Visualization Web Development MySQL (Database)\\n\\nTECHQKONNECT Palghar, Maharashtra Intern Dec 2022 – Jan 2023 Techqkonnect Pvt. Ltd, a startup founded in 2016-2017, provided me with a valuable opportunity to contribute as a Machine Learning Intern. My primary focus during this period was on osteoporosis fracture analysis, a challenging and important domain within the healthcare industry.\\n\\nL A N G U A G E S\\n\\nPython C HTML, CSS JavaScript\\n\\nTECH CRYPTERS Palghar, Maharashtra Intern June 2023 The internship at Tech Crypters was facilitated through a collaboration with my institute, offering a dynamic environment for learning and growth. Throughout the internship, I was actively involved in the development of approximately 10 machine learning models, gaining hands-on experience in applying theoretical knowledge to real-world scenarios.\\n\\nA C H I E V E M E N T S\\n\\nWinner of HACKFORMERS Hackthon. • Winner of NEXTTECH Hackathon • Finalist of STAT-OTHON organized By IIT-Madras. • Participant of Rajasthan Police Hackathon 1.0 held at Jaipur.\\n\\nPROJECTS • Developed a machine learning app named Vigilance that recommends the users which roads are safe or unsafe to travel. The Machine Learning model used to make recommendations based on the number of CCTVs in that locality, distance to nearby Police station and the crime rate of that locality\\n\\nDeveloped userinterface of web portal that takes complaints in Written or image format and then classifies text and recommends the acts and sections that can be applicable on that complaint. This project we build in Rajasthan Police Hackathon 1.0. My team got till the last round of the hackathon.\", metadata={'source': '/content/pritesh cv.pdf'})]\n"
          ]
        }
      ]
    },
    {
      "cell_type": "code",
      "source": [
        "len(content[0].page_content)"
      ],
      "metadata": {
        "colab": {
          "base_uri": "https://localhost:8080/"
        },
        "id": "Gqzk_wUaO_mE",
        "outputId": "314c5c03-05e2-4e6d-8943-e3ed5556e58a"
      },
      "execution_count": null,
      "outputs": [
        {
          "output_type": "execute_result",
          "data": {
            "text/plain": [
              "2661"
            ]
          },
          "metadata": {},
          "execution_count": 6
        }
      ]
    },
    {
      "cell_type": "markdown",
      "source": [
        "CHUNKING DATA AND CREATING RETRIEVAL"
      ],
      "metadata": {
        "id": "-ZOAcO65P2Si"
      }
    },
    {
      "cell_type": "code",
      "source": [
        "parent_splitter=RecursiveCharacterTextSplitter(chunk_size=250, chunk_overlap=0)\n",
        "child_splitter=RecursiveCharacterTextSplitter(chunk_size=200, chunk_overlap=0)"
      ],
      "metadata": {
        "id": "m27pp477O_pm"
      },
      "execution_count": null,
      "outputs": []
    },
    {
      "cell_type": "code",
      "source": [
        "embeddings=HuggingFaceInferenceAPIEmbeddings(\n",
        "    api_key=HF_TOKEN, model_name = \"thenlper/gte-large\"\n",
        ")"
      ],
      "metadata": {
        "id": "BiR2Ep2SQQgi"
      },
      "execution_count": null,
      "outputs": []
    },
    {
      "cell_type": "code",
      "source": [
        "vectordb= Chroma(embedding_function=embeddings)\n",
        "store=InMemoryStore()"
      ],
      "metadata": {
        "id": "gl5widOpQQi3"
      },
      "execution_count": null,
      "outputs": []
    },
    {
      "cell_type": "code",
      "source": [
        "retriever=ParentDocumentRetriever(\n",
        "    vectorstore= vectordb,\n",
        "    docstore= store,\n",
        "    child_splitter= child_splitter,\n",
        "    parent_splitter= parent_splitter\n",
        ")"
      ],
      "metadata": {
        "id": "Q1tiolCiQQmR"
      },
      "execution_count": null,
      "outputs": []
    },
    {
      "cell_type": "code",
      "source": [
        "retriever.add_documents(content,ids=None)"
      ],
      "metadata": {
        "id": "XKA1y8gtRH8B"
      },
      "execution_count": null,
      "outputs": []
    },
    {
      "cell_type": "code",
      "source": [
        "query=\"what is Techqkonnect?\"\n",
        "relevant_context=retriever.get_relevant_documents(query)\n",
        "relevant_context\n",
        "#when parent size is 500"
      ],
      "metadata": {
        "colab": {
          "base_uri": "https://localhost:8080/"
        },
        "id": "gpcQcsiRRH_m",
        "outputId": "5edd1969-75f9-449a-cdf8-2648a10a81c2"
      },
      "execution_count": null,
      "outputs": [
        {
          "output_type": "execute_result",
          "data": {
            "text/plain": [
              "[Document(page_content='K E Y S K I L L S\\n\\nE X P E R I E N C E\\n\\nData Science Machine Learning Deep Learning Data Visualization Web Development MySQL (Database)\\n\\nTECHQKONNECT Palghar, Maharashtra Intern Dec 2022 – Jan 2023 Techqkonnect Pvt. Ltd, a startup founded in 2016-2017, provided me with a valuable opportunity to contribute as a Machine Learning Intern. My primary focus during this period was on osteoporosis fracture analysis, a challenging and important domain within the healthcare industry.\\n\\nL A N G U A G E S', metadata={'source': '/content/pritesh cv.pdf'}),\n",
              " Document(page_content='knowledge at every hackathon, eager to push my limits and collaborate with other tech enthusiasts.', metadata={'source': '/content/pritesh cv.pdf'}),\n",
              " Document(page_content='Python C HTML, CSS JavaScript\\n\\nTECH CRYPTERS Palghar, Maharashtra Intern June 2023 The internship at Tech Crypters was facilitated through a collaboration with my institute, offering a dynamic environment for learning and growth. Throughout the internship, I was actively involved in the development of approximately 10 machine learning models, gaining hands-on experience in applying theoretical knowledge to real-world scenarios.\\n\\nA C H I E V E M E N T S', metadata={'source': '/content/pritesh cv.pdf'}),\n",
              " Document(page_content='Winner of HACKFORMERS Hackthon. • Winner of NEXTTECH Hackathon • Finalist of STAT-OTHON organized By IIT-Madras. • Participant of Rajasthan Police Hackathon 1.0 held at Jaipur.\\n\\nPROJECTS • Developed a machine learning app named Vigilance that recommends the users which roads are safe or unsafe to travel. The Machine Learning model used to make recommendations based on the number of CCTVs in that locality, distance to nearby Police station and the crime rate of that locality', metadata={'source': '/content/pritesh cv.pdf'})]"
            ]
          },
          "metadata": {},
          "execution_count": 12
        }
      ]
    },
    {
      "cell_type": "code",
      "source": [
        "query=\"what is Techqkonnect?\"\n",
        "relevant_context=retriever.get_relevant_documents(query)\n",
        "relevant_context\n",
        "#when parent sixe is 250"
      ],
      "metadata": {
        "colab": {
          "base_uri": "https://localhost:8080/"
        },
        "id": "LP8MNRXYR8Xz",
        "outputId": "6a4e27cb-246f-4883-db02-ba3402bb81f9"
      },
      "execution_count": null,
      "outputs": [
        {
          "output_type": "execute_result",
          "data": {
            "text/plain": [
              "[Document(page_content='TECHQKONNECT Palghar, Maharashtra Intern Dec 2022 – Jan 2023 Techqkonnect Pvt. Ltd, a startup founded in 2016-2017, provided me with a valuable opportunity to contribute as a Machine Learning Intern. My primary focus during this period was on', metadata={'source': '/content/pritesh cv.pdf'}),\n",
              " Document(page_content='knowledge at every hackathon, eager to push my limits and collaborate with other tech enthusiasts.', metadata={'source': '/content/pritesh cv.pdf'})]"
            ]
          },
          "metadata": {},
          "execution_count": 18
        }
      ]
    },
    {
      "cell_type": "markdown",
      "source": [
        "NOW CREATING RETRIEVALS USING CHAIN SO THAT WE CAN GET THE MOST RELEVANT DOCUMENT\n"
      ],
      "metadata": {
        "id": "RNVKwvUFSTQu"
      }
    },
    {
      "cell_type": "code",
      "source": [
        "model=HuggingFaceHub(\n",
        "    repo_id=\"HuggingFaceH4/zephyr-7b-alpha\",\n",
        "    model_kwargs={\"temperature\":0.5,\"max_new_tokens\":512,\"max_length\":64}\n",
        ")"
      ],
      "metadata": {
        "id": "-Du2wsslZJ9J"
      },
      "execution_count": null,
      "outputs": []
    },
    {
      "cell_type": "code",
      "source": [
        "from langchain_core.prompts import ChatPromptTemplate\n",
        "\n",
        "template=\"\"\"\n",
        "<|system|>>\n",
        "You are an AI Assistant that follows instructions extremely well.\n",
        "Please be truthful and give direct answers. Please tell 'I don't know' if user query is not in CONTEXT\n",
        "\n",
        "CONTEXT: {context}\n",
        "</s>\n",
        "<|user|>\n",
        "{query}\n",
        "</s>\n",
        "<|assistant|>\n",
        "\"\"\""
      ],
      "metadata": {
        "id": "yTeumM0vZKAq"
      },
      "execution_count": null,
      "outputs": []
    },
    {
      "cell_type": "code",
      "source": [
        "prompt= ChatPromptTemplate.from_template(template)"
      ],
      "metadata": {
        "id": "kfbkk9VlW5fa"
      },
      "execution_count": null,
      "outputs": []
    },
    {
      "cell_type": "code",
      "source": [
        "from langchain_core.output_parsers import StrOutputParser\n",
        "from langchain_core.runnables import RunnablePassthrough"
      ],
      "metadata": {
        "id": "0QmA2oVjZ9rC"
      },
      "execution_count": null,
      "outputs": []
    },
    {
      "cell_type": "code",
      "source": [
        "out_parser=StrOutputParser()"
      ],
      "metadata": {
        "id": "GeffM9twZ9uV"
      },
      "execution_count": null,
      "outputs": []
    },
    {
      "cell_type": "code",
      "source": [
        "chain= (\n",
        "    {'context': retriever, 'query':RunnablePassthrough()}\n",
        "    | prompt\n",
        "    | model\n",
        "    | out_parser\n",
        ")"
      ],
      "metadata": {
        "id": "NBvq3LRNaYpc"
      },
      "execution_count": null,
      "outputs": []
    },
    {
      "cell_type": "code",
      "source": [
        "query=\"who is pritesh verma?\"\n",
        "response=chain.invoke(query)\n",
        "print(response)"
      ],
      "metadata": {
        "colab": {
          "base_uri": "https://localhost:8080/"
        },
        "id": "lVJp41mbaYs5",
        "outputId": "f93a4db7-3a1d-4d55-c10d-6d23e8c0707a"
      },
      "execution_count": null,
      "outputs": [
        {
          "output_type": "stream",
          "name": "stdout",
          "text": [
            "Human: \n",
            "<|system|>>\n",
            "You are an AI Assistant that follows instructions extremely well.\n",
            "Please be truthful and give direct answers. Please tell 'I don't know' if user query is not in CONTEXT\n",
            "\n",
            "CONTEXT: [Document(page_content='+91 9167645691\\n\\nPRITESH JAYPRAKASH VERMA AI & DS ENGINEERING STUDENT\\n\\nvermapritesh74@gmail.com\\n\\nGoregaon, Mumbai\\n\\n@Pritesh verma\\n\\nE D U C A T I O N\\n\\nP R O F I L E\\n\\nSCHOOL\\n\\nSt. Xavier’s High School, Goregaon, Mumbai-400063. Percentage: 87.80%', metadata={'source': '/content/pritesh cv.pdf'}), Document(page_content='A C H I E V E M E N T S\\n\\nWinner of HACKFORMERS Hackthon. • Winner of NEXTTECH Hackathon • Finalist of STAT-OTHON organized By IIT-Madras. • Participant of Rajasthan Police Hackathon 1.0 held at Jaipur.', metadata={'source': '/content/pritesh cv.pdf'})]\n",
            "</s>\n",
            "<|user|>\n",
            "who is pritesh verma?\n",
            "</s>\n",
            "<|assistant|>\n",
            "Pritesh Verma is a person mentioned in the given context. From the information provided, he is an AI & DS Engineering student, his email address is vermapritesh74@gmail.com, and he is from Goregaon, Mumbai. No further information is given about his background or identity beyond what is provided in the context.\n"
          ]
        }
      ]
    },
    {
      "cell_type": "code",
      "source": [
        "print(chain.invoke(\"profession of pritesh verma?\"))"
      ],
      "metadata": {
        "colab": {
          "base_uri": "https://localhost:8080/"
        },
        "id": "KdO77oI1bdDX",
        "outputId": "e3f1ff3e-ba25-4765-e8ff-20231fbb08be"
      },
      "execution_count": null,
      "outputs": [
        {
          "output_type": "stream",
          "name": "stdout",
          "text": [
            "Human: \n",
            "<|system|>>\n",
            "You are an AI Assistant that follows instructions extremely well.\n",
            "Please be truthful and give direct answers. Please tell 'I don't know' if user query is not in CONTEXT\n",
            "\n",
            "CONTEXT: [Document(page_content='+91 9167645691\\n\\nPRITESH JAYPRAKASH VERMA AI & DS ENGINEERING STUDENT\\n\\nvermapritesh74@gmail.com\\n\\nGoregaon, Mumbai\\n\\n@Pritesh verma\\n\\nE D U C A T I O N\\n\\nP R O F I L E\\n\\nSCHOOL\\n\\nSt. Xavier’s High School, Goregaon, Mumbai-400063. Percentage: 87.80%', metadata={'source': '/content/pritesh cv.pdf'}), Document(page_content='A C H I E V E M E N T S\\n\\nWinner of HACKFORMERS Hackthon. • Winner of NEXTTECH Hackathon • Finalist of STAT-OTHON organized By IIT-Madras. • Participant of Rajasthan Police Hackathon 1.0 held at Jaipur.', metadata={'source': '/content/pritesh cv.pdf'})]\n",
            "</s>\n",
            "<|user|>\n",
            "profession of pritesh verma?\n",
            "</s>\n",
            "<|assistant|>\n",
            "Based on the given context, the profession of Pritesh Verma is not explicitly mentioned. However, it can be inferred that Pritesh Verma is an AI & DS Engineering student, as mentioned in the first document.\n"
          ]
        }
      ]
    }
  ]
}